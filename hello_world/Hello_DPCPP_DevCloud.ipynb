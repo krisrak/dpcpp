{
 "cells": [
  {
   "cell_type": "markdown",
   "metadata": {},
   "source": [
    "# Data Parallel C++"
   ]
  },
  {
   "cell_type": "markdown",
   "metadata": {},
   "source": [
    "- Data Parallel C++ (DPC++) is a __unified programming language__ that enables programming for __diverse architectures__ like CPU, GPU, FPGA and other accelerators. \n",
    "- DPC++ is based on __industry standards__ and __open specification__. \n",
    "- DPC++ = __C++__ and __SYCL__* standard and extensions. \n",
    "- DPC++ simplifies __expressing parallelism__."
   ]
  },
  {
   "cell_type": "markdown",
   "metadata": {},
   "source": [
    "# Hello World"
   ]
  },
  {
   "cell_type": "markdown",
   "metadata": {},
   "source": [
    "The code example does the following:\n",
    "1. __allocate__ an array\n",
    "2. __initialize__ the array to some value\n",
    "3. do __computation__ on each element of array (multiply by 2)\n",
    "4. __print output__ data array\n",
    "\n",
    "There are 2 code examples doing the above computation using __C++__ and __DPC++__:\n",
    "\n",
    "1. The first code example uses __C++__ to allocate data array, initialize data, computes using `for`-loop\n",
    "2. The second code example uses __DPC++__ to allocate memory using __Unified Shared Memory__, initialize data, create, compute by __offloading to accelerator__ device(GPU) using `parallel_for`\n",
    "3. The third code example uses __DPC++__ to allocate data, initialize data, create __buffer and accessor__ to copy memory between host and device, compute by __offloading to accelerator__ device(GPU) using `parallel_for`"
   ]
  },
  {
   "cell_type": "markdown",
   "metadata": {},
   "source": [
    "## C++\n",
    "\n",
    "#### Serial Computation on CPU\n"
   ]
  },
  {
   "cell_type": "code",
   "execution_count": null,
   "metadata": {},
   "outputs": [],
   "source": [
    "%%writefile simple_cpp.cpp\n",
    "#include <iostream>\n",
    "\n",
    "static const int N = 4;\n",
    "\n",
    "int main(){\n",
    "    //# Memory Allocation\n",
    "    float *data = (float*)malloc(sizeof(float)*N);\n",
    "\n",
    "    //# Initialization\n",
    "    for(int i=0; i<N; i++) data[i] = i;\n",
    "\n",
    "    //# Serial Computation\n",
    "    for(int i=0; i<N; i++) data[i] *= 2;\n",
    "\n",
    "    //# Print Output\n",
    "    for(int i=0; i<N; i++) std::cout << data[i] << std::endl;\n",
    "\n",
    "    free(data);\n",
    "}\n"
   ]
  },
  {
   "cell_type": "markdown",
   "metadata": {},
   "source": [
    "#### Build and Run"
   ]
  },
  {
   "cell_type": "code",
   "execution_count": null,
   "metadata": {},
   "outputs": [],
   "source": [
    "!./q run_hello_cpp.sh"
   ]
  },
  {
   "cell_type": "markdown",
   "metadata": {},
   "source": [
    "## DPC++\n",
    "\n",
    "#### Parallel Computation Offloaded to device\n",
    "\n",
    "The code below show DPC++ implementation of Hello World which uses Unified Shared Memory and other simplification of SYCL standard"
   ]
  },
  {
   "cell_type": "code",
   "execution_count": null,
   "metadata": {
    "jupyter": {
     "source_hidden": true
    }
   },
   "outputs": [],
   "source": [
    "%%writefile simple_dpcpp.cpp\n",
    "#include <CL/sycl.hpp>\n",
    "using namespace sycl;\n",
    "\n",
    "static const int N = 4;\n",
    "\n",
    "int main(){\n",
    "    //# define queue which has default device associated for offload\n",
    "    queue q;\n",
    "    std::cout << \"Device: \" << q.get_device().get_info<info::device::name>() << std::endl;\n",
    "\n",
    "    //# USM Allocation enables data access on host and device\n",
    "    float *data = static_cast<float*>(malloc_shared(N * sizeof(float), q));\n",
    "\n",
    "    //# Initialization\n",
    "    for(int i=0; i<N; i++) data[i] = i;\n",
    "\n",
    "    //# Offload parallel computation to GPU device\n",
    "    q.parallel_for(range<1>(N), [=] (id<1> i){\n",
    "        data[i] *= 2;\n",
    "    }).wait();\n",
    "\n",
    "    //# Print Output\n",
    "    for(int i=0; i<N; i++) std::cout << data[i] << std::endl;\n",
    "\n",
    "    free(data, q);\n",
    "}\n"
   ]
  },
  {
   "cell_type": "markdown",
   "metadata": {},
   "source": [
    "#### Build and Run"
   ]
  },
  {
   "cell_type": "code",
   "execution_count": null,
   "metadata": {},
   "outputs": [],
   "source": [
    "!./q run_hello_dpcpp.sh"
   ]
  },
  {
   "cell_type": "markdown",
   "metadata": {},
   "source": [
    "## SYCL\n",
    "\n",
    "#### Parallel Computation Offloaded to GPU\n",
    "\n",
    "The code below shows SYCL implementation of Hello World using buffers and accessors\n"
   ]
  },
  {
   "cell_type": "code",
   "execution_count": null,
   "metadata": {},
   "outputs": [],
   "source": [
    "%%writefile simple_sycl.cpp\n",
    "#include <CL/sycl.hpp>\n",
    "using namespace cl::sycl;\n",
    "\n",
    "static const int N = 4;\n",
    "\n",
    "int main(){\n",
    "    //# define queue which has default device associated for offload\n",
    "    queue q;\n",
    "    std::cout << \"Device: \" << q.get_device().get_info<info::device::name>() << std::endl;\n",
    "\n",
    "    //# Memory Allocation\n",
    "    float *data = (float*)malloc(sizeof(float)*N);\n",
    "    \n",
    "    //# Initialization\n",
    "    for(int i=0; i<N; i++) data[i] = i;\n",
    "\n",
    "    //# Create buffer\n",
    "    buffer<float> data_buffer(data, range<1>(N));\n",
    "\n",
    "    //# Submit command groups to GPU device\n",
    "    q.submit([&](handler &h){\n",
    "        //# Create accessor to copy buffer to device\n",
    "        auto DATA = data_buffer.get_access<access::mode::read_write>(h);\n",
    "        \n",
    "        //# Parallel Computation on device\n",
    "        h.parallel_for<class kernel_doubler>(range<1>(N), [=] (id<1> i){\n",
    "            DATA[i] *= 2;\n",
    "        });\n",
    "    });\n",
    " \n",
    "    //# Update buffer on host\n",
    "    data_buffer.get_access<access::mode::read>();\n",
    "    \n",
    "    //# Print Output\n",
    "    for(int i=0; i<N; i++) std::cout << data[i] << std::endl;\n",
    "\n",
    "    free(data);\n",
    "}\n"
   ]
  },
  {
   "cell_type": "markdown",
   "metadata": {},
   "source": [
    "#### Build and Run"
   ]
  },
  {
   "cell_type": "code",
   "execution_count": null,
   "metadata": {},
   "outputs": [],
   "source": [
    "!./q run_hello_sycl.sh"
   ]
  }
 ],
 "metadata": {
  "kernelspec": {
   "display_name": "Python 3 (Intel, 2019 update 2)",
   "language": "python",
   "name": "c009-intel_distribution_of_python_3_2019u2"
  },
  "language_info": {
   "codemirror_mode": {
    "name": "ipython",
    "version": 3
   },
   "file_extension": ".py",
   "mimetype": "text/x-python",
   "name": "python",
   "nbconvert_exporter": "python",
   "pygments_lexer": "ipython3",
   "version": "3.6.8"
  }
 },
 "nbformat": 4,
 "nbformat_minor": 4
}

